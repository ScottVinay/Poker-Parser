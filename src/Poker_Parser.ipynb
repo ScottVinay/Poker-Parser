{
 "cells": [
  {
   "cell_type": "markdown",
   "metadata": {},
   "source": [
    "# Poker Parser"
   ]
  },
  {
   "cell_type": "markdown",
   "metadata": {},
   "source": [
    "- luck: number won at showdown "
   ]
  },
  {
   "cell_type": "markdown",
   "metadata": {},
   "source": [
    "### Import functions"
   ]
  },
  {
   "cell_type": "code",
   "execution_count": 11,
   "metadata": {},
   "outputs": [],
   "source": [
    "import numpy as np\n",
    "import pandas as pd\n",
    "from matplotlib import pyplot as plt\n",
    "import seaborn as sns\n",
    "from datetime import datetime\n",
    "import pytz\n",
    "import parser_script\n",
    "\n",
    "def find(s, ch):\n",
    "    return np.array([i for i, ltr in enumerate(s) if ltr == ch]).astype(int)"
   ]
  },
  {
   "cell_type": "markdown",
   "metadata": {},
   "source": [
    "### Load and process data"
   ]
  },
  {
   "cell_type": "code",
   "execution_count": 21,
   "metadata": {},
   "outputs": [],
   "source": [
    "dfraw = pd.read_csv('../data/data_03_12_20.csv').reset_index(drop=True)\n",
    "df = dfraw[dfraw['entry'].str.contains('Player stacks')].reset_index(drop=False)\n",
    "df = df.rename(columns={'index':'original_index'})\n",
    "df = df.drop(columns={'order'})\n",
    "\n",
    "df = df[::-1].reset_index(drop=True)"
   ]
  },
  {
   "cell_type": "code",
   "execution_count": 30,
   "metadata": {},
   "outputs": [
    {
     "ename": "AssertionError",
     "evalue": "",
     "output_type": "error",
     "traceback": [
      "\u001b[0;31m---------------------------------------------------------------------------\u001b[0m",
      "\u001b[0;31mAssertionError\u001b[0m                            Traceback (most recent call last)",
      "\u001b[0;32m<ipython-input-30-ebb22ff4787d>\u001b[0m in \u001b[0;36m<module>\u001b[0;34m\u001b[0m\n\u001b[0;32m----> 1\u001b[0;31m \u001b[0mdf\u001b[0m \u001b[0;34m=\u001b[0m \u001b[0mparser_script\u001b[0m\u001b[0;34m.\u001b[0m\u001b[0mget_robust_totals\u001b[0m\u001b[0;34m(\u001b[0m\u001b[0mdfraw\u001b[0m\u001b[0;34m,\u001b[0m \u001b[0mnames\u001b[0m\u001b[0;34m)\u001b[0m\u001b[0;34m\u001b[0m\u001b[0;34m\u001b[0m\u001b[0m\n\u001b[0m",
      "\u001b[0;32m~/Google Drive/Python scripts/Poker/src/parser_script.py\u001b[0m in \u001b[0;36mget_robust_totals\u001b[0;34m(dfraw, names)\u001b[0m\n\u001b[1;32m    115\u001b[0m         \u001b[0mhand_delm\u001b[0m \u001b[0;34m=\u001b[0m \u001b[0;34m(\u001b[0m\u001b[0mhand_time\u001b[0m\u001b[0;34m-\u001b[0m\u001b[0mstart_time\u001b[0m\u001b[0;34m)\u001b[0m\u001b[0;34m.\u001b[0m\u001b[0mtotal_seconds\u001b[0m\u001b[0;34m(\u001b[0m\u001b[0;34m)\u001b[0m\u001b[0;34m/\u001b[0m\u001b[0;36m60\u001b[0m\u001b[0;34m\u001b[0m\u001b[0;34m\u001b[0m\u001b[0m\n\u001b[1;32m    116\u001b[0m \u001b[0;34m\u001b[0m\u001b[0m\n\u001b[0;32m--> 117\u001b[0;31m         \u001b[0mdiff\u001b[0m \u001b[0;34m=\u001b[0m \u001b[0mget_hand_differential\u001b[0m\u001b[0;34m(\u001b[0m\u001b[0mh\u001b[0m\u001b[0;34m,\u001b[0m \u001b[0mnames\u001b[0m\u001b[0;34m)\u001b[0m\u001b[0;34m\u001b[0m\u001b[0;34m\u001b[0m\u001b[0m\n\u001b[0m\u001b[1;32m    118\u001b[0m \u001b[0;34m\u001b[0m\u001b[0m\n\u001b[1;32m    119\u001b[0m         \u001b[0mtotals\u001b[0m\u001b[0;34m.\u001b[0m\u001b[0mloc\u001b[0m\u001b[0;34m[\u001b[0m\u001b[0mi\u001b[0m\u001b[0;34m,\u001b[0m \u001b[0;34m'handid'\u001b[0m\u001b[0;34m]\u001b[0m \u001b[0;34m=\u001b[0m \u001b[0mi\u001b[0m\u001b[0;34m\u001b[0m\u001b[0;34m\u001b[0m\u001b[0m\n",
      "\u001b[0;32m~/Google Drive/Python scripts/Poker/src/parser_script.py\u001b[0m in \u001b[0;36mget_hand_differential\u001b[0;34m(hand, names)\u001b[0m\n\u001b[1;32m     39\u001b[0m     \u001b[0;32mfor\u001b[0m \u001b[0mk\u001b[0m \u001b[0;32min\u001b[0m \u001b[0mhand_diff\u001b[0m\u001b[0;34m.\u001b[0m\u001b[0mkeys\u001b[0m\u001b[0;34m(\u001b[0m\u001b[0;34m)\u001b[0m\u001b[0;34m:\u001b[0m\u001b[0;34m\u001b[0m\u001b[0;34m\u001b[0m\u001b[0m\n\u001b[1;32m     40\u001b[0m         \u001b[0mhand_diff\u001b[0m\u001b[0;34m[\u001b[0m\u001b[0mk\u001b[0m\u001b[0;34m]\u001b[0m \u001b[0;34m=\u001b[0m \u001b[0mnp\u001b[0m\u001b[0;34m.\u001b[0m\u001b[0mround\u001b[0m\u001b[0;34m(\u001b[0m\u001b[0mhand_diff\u001b[0m\u001b[0;34m[\u001b[0m\u001b[0mk\u001b[0m\u001b[0;34m]\u001b[0m\u001b[0;34m,\u001b[0m \u001b[0;36m2\u001b[0m\u001b[0;34m)\u001b[0m\u001b[0;34m\u001b[0m\u001b[0;34m\u001b[0m\u001b[0m\n\u001b[0;32m---> 41\u001b[0;31m     \u001b[0;32massert\u001b[0m \u001b[0msum\u001b[0m\u001b[0;34m(\u001b[0m\u001b[0mhand_diff\u001b[0m\u001b[0;34m.\u001b[0m\u001b[0mvalues\u001b[0m\u001b[0;34m(\u001b[0m\u001b[0;34m)\u001b[0m\u001b[0;34m)\u001b[0m\u001b[0;34m.\u001b[0m\u001b[0mround\u001b[0m\u001b[0;34m(\u001b[0m\u001b[0;36m2\u001b[0m\u001b[0;34m)\u001b[0m\u001b[0;34m==\u001b[0m\u001b[0;36m0\u001b[0m\u001b[0;34m\u001b[0m\u001b[0;34m\u001b[0m\u001b[0m\n\u001b[0m\u001b[1;32m     42\u001b[0m     \u001b[0;32mreturn\u001b[0m \u001b[0mhand_diff\u001b[0m\u001b[0;34m\u001b[0m\u001b[0;34m\u001b[0m\u001b[0m\n\u001b[1;32m     43\u001b[0m \u001b[0;34m\u001b[0m\u001b[0m\n",
      "\u001b[0;31mAssertionError\u001b[0m: "
     ]
    }
   ],
   "source": [
    "df = parser_script.get_robust_totals(dfraw, names)"
   ]
  },
  {
   "cell_type": "code",
   "execution_count": 22,
   "metadata": {},
   "outputs": [],
   "source": [
    "# Get names\n",
    "\n",
    "for irow in range(len(df)):\n",
    "    s = df.loc[irow,'entry']\n",
    "    name_starts = find(s,'\"')[::2]+1\n",
    "    name_ends   = find(s,'@')-1\n",
    "    num_starts  = find(s,'(')+1\n",
    "    num_ends    = find(s,')')\n",
    "    for iname in range(len(name_starts)):\n",
    "        name = s[name_starts[iname]:name_ends[iname]]\n",
    "        num  = s[num_starts[iname]:num_ends[iname]]\n",
    "        df.loc[irow,name] = float(num)\n",
    "\n",
    "names = [n for n in df.columns if n not in ['entry','at','order','original_index']]"
   ]
  },
  {
   "cell_type": "code",
   "execution_count": 23,
   "metadata": {},
   "outputs": [],
   "source": [
    "for n in names:\n",
    "    df[n+'_buybacks'] = 0\n",
    "    df[n+'_buyback_total'] = 0"
   ]
  },
  {
   "cell_type": "markdown",
   "metadata": {},
   "source": [
    "### Account for buy-backs"
   ]
  },
  {
   "cell_type": "code",
   "execution_count": 24,
   "metadata": {},
   "outputs": [
    {
     "name": "stdin",
     "output_type": "stream",
     "text": [
      "Did Dr. Hurst buy back in for 2.35 at 20:47? [y/n]  n\n",
      "Did Dr. Hurst buy back in for 3.50 at 21:30? [y/n]  y\n"
     ]
    }
   ],
   "source": [
    "buyback_rows = dfraw[dfraw['entry'].str.contains('joined')].reset_index(drop=False)\n",
    "buyback_rows = buyback_rows.rename(columns={'index':'original_index'})[:-len(names)]\n",
    "\n",
    "for i in list(range(len(buyback_rows)))[::-1]:\n",
    "    etr = buyback_rows.loc[i,'entry']\n",
    "    name = etr[etr.index('\"')+1:etr.index('@')-1]\n",
    "    num = etr[etr.index('of')+3:-1]\n",
    "    at = buyback_rows.loc[i,'at'].replace('T',' ')\n",
    "    time = at[at.index(':')-2:at.index(':')+3]\n",
    "    yn = 0\n",
    "    while yn not in ['y','n']:\n",
    "        yn = input(f'Did {name} buy back in for {num} at {time}? [y/n] ')\n",
    "    buyback_rows.loc[i,'is_buyback'] = (yn=='y')\n",
    "    buyback_rows.loc[i,'amount'] = float(num)\n",
    "    buyback_rows.loc[i,'name'] = name"
   ]
  },
  {
   "cell_type": "code",
   "execution_count": 25,
   "metadata": {},
   "outputs": [],
   "source": [
    "# Necessary. If you go all in, then buy back for less than you went all-in for, \n",
    "# I don't think there's a way of distinguishing it from losing the difference\n",
    "# and then sitting out a round.\n",
    "\n",
    "for i in range(len(buyback_rows)):\n",
    "    if not buyback_rows.loc[i,'is_buyback']:\n",
    "        continue\n",
    "    # < since we have inverted df \n",
    "    ind = buyback_rows.loc[i,'original_index']\n",
    "    amount = buyback_rows.loc[i,'amount']\n",
    "    name = buyback_rows.loc[i,'name']\n",
    "\n",
    "    df.loc[df['original_index']<ind, name] -= amount\n",
    "    df.loc[df['original_index']<ind, name+'_buybacks'] += 1\n",
    "    df.loc[df['original_index']<ind, name+'_buyback_total'] += amount"
   ]
  },
  {
   "cell_type": "code",
   "execution_count": 26,
   "metadata": {},
   "outputs": [],
   "source": [
    "for nam in names:\n",
    "    nanrows = df[pd.isnull(df[nam])]\n",
    "    nanrows = nanrows.loc[[ind for ind in nanrows.index if ind-1 not in nanrows.index]]\n",
    "    for i_n in range(len(nanrows)):\n",
    "        index_of_row = nanrows.iloc[[i_n]].index[0]\n",
    "        inbb = nanrows.loc[index_of_row, name+'_buybacks']\n",
    "        for i_df in range(index_of_row, len(df)):\n",
    "            if not np.isnan(df.loc[i_df, name]):\n",
    "                if df.loc[i_df, name+'_buybacks'] == inbb+1:\n",
    "                    inds_to_fill = list(range(index_of_row,i_df+1))\n",
    "                    df.loc[inds_to_fill, name] = -nanrows.loc[index_of_row, name+'_buyback_total']\n",
    "                break\n",
    "        else:\n",
    "            inds_to_fill = list(range(index_of_row,len(df)))\n",
    "            df.loc[inds_to_fill, name] = -nanrows.loc[index_of_row, name+'_buyback_total']"
   ]
  },
  {
   "cell_type": "code",
   "execution_count": 27,
   "metadata": {},
   "outputs": [],
   "source": [
    "df = df.ffill()\n",
    "\n",
    "# Not inds that have no change = some error in accounting\n",
    "inds_to_keep = [0] \n",
    "for i in range(1, len(df)):\n",
    "    for nam in names:\n",
    "        if df.loc[i, nam]!=df.loc[i-1, nam]:\n",
    "            inds_to_keep.append(i)\n",
    "            break\n",
    "df = df.loc[inds_to_keep, names+['at']].reset_index(drop=True)"
   ]
  },
  {
   "cell_type": "markdown",
   "metadata": {},
   "source": [
    "### Colour tester"
   ]
  },
  {
   "cell_type": "code",
   "execution_count": 28,
   "metadata": {},
   "outputs": [
    {
     "name": "stdout",
     "output_type": "stream",
     "text": [
      "[(0.2980392156862745, 0.4470588235294118, 0.6901960784313725), (0.8666666666666667, 0.5176470588235295, 0.3215686274509804), (0.3333333333333333, 0.6588235294117647, 0.40784313725490196)] \n",
      "\n"
     ]
    },
    {
     "data": {
      "image/png": "[encoded data removed]",
      "text/plain": [
       "<Figure size 720x36 with 1 Axes>"
      ]
     },
     "metadata": {},
     "output_type": "display_data"
    }
   ],
   "source": [
    "from matplotlib import colors as mcolors\n",
    "cols = list(mcolors.CSS4_COLORS.keys())\n",
    "cols = plt.rcParams['axes.prop_cycle'].by_key()['color']\n",
    "cols = [c for c in cols if 'white' not in c]\n",
    "#np.random.shuffle(cols)\n",
    "\n",
    "# Suggested colour scheme. Comment this line out to try random schemes.\n",
    "# cols = ['darkmagenta', 'forestgreen', 'coral', 'darkturquoise','grey']\n",
    "\n",
    "plt.figure(figsize=[10,0.5])\n",
    "for i,n in enumerate(names):\n",
    "    plt.bar([names[i]], [1], color=cols[i])\n",
    "    plt.xticks(rotation=0);\n",
    "    plt.yticks([]);\n",
    "print(cols[:len(names)], '\\n')\n",
    "\n",
    "# Some good colour schemes\n",
    "# cols = ['mediumturquoise', 'grey', 'red', 'darkmagenta']\n",
    "# cols = ['forestgreen', 'orange', 'purple', 'cornflowerblue']\n",
    "# cols = ['darkmagenta', 'forestgreen', 'coral', 'darkturquoise']"
   ]
  },
  {
   "cell_type": "markdown",
   "metadata": {},
   "source": [
    "### Plot total bankroll over time"
   ]
  },
  {
   "cell_type": "code",
   "execution_count": 29,
   "metadata": {},
   "outputs": [
    {
     "data": {
      "text/plain": [
       "<matplotlib.lines.Line2D at 0x7faea4df5940>"
      ]
     },
     "execution_count": 29,
     "metadata": {},
     "output_type": "execute_result"
    },
    {
     "data": {
      "image/png": "[encoded data removed]",
      "text/plain": [
       "<Figure size 1080x720 with 1 Axes>"
      ]
     },
     "metadata": {},
     "output_type": "display_data"
    }
   ],
   "source": [
    "plt.figure(figsize=[15,10])\n",
    "sns.set(font_scale=2)\n",
    "for i,n in enumerate(names):\n",
    "    plt.plot(np.arange(1,len(df)+1),df[n].values,label=n,color=cols[i],linewidth=4)\n",
    "plt.legend()\n",
    "plt.xlabel('Round number')\n",
    "plt.ylabel('£££')\n",
    "plt.xlim(left=0);\n",
    "plt.gca().axhline(0,dashes=[3,6],linewidth=.5,color='black')\n",
    "plt.gca().axhline(df.loc[0,names[0]],dashes=[3,6],linewidth=.5,color='black')\n",
    "\n",
    "#plt.savefig(f'poker_{datetime.now().strftime(\"%d_%m_%y\")}.png',bbox_inches='tight')"
   ]
  },
  {
   "cell_type": "markdown",
   "metadata": {},
   "source": [
    "### Plot winnings and losses per round"
   ]
  },
  {
   "cell_type": "code",
   "execution_count": 24,
   "metadata": {},
   "outputs": [
    {
     "data": {
      "image/png": "[encoded data removed]",
      "text/plain": [
       "<Figure size 1080x720 with 1 Axes>"
      ]
     },
     "metadata": {},
     "output_type": "display_data"
    }
   ],
   "source": [
    "plt.figure(figsize=[15,10])\n",
    "sns.set(font_scale=2)\n",
    "\n",
    "previous = (np.arange(1,len(df))*0).astype(float)\n",
    "for i,n in enumerate(names):\n",
    "    diffs = np.diff(df[n])\n",
    "\n",
    "    above_part = np.where(diffs>0, diffs, 0)\n",
    "    plt.bar(np.arange(1,len(df)),above_part,color=cols[i], label=n, alpha=1)\n",
    "\n",
    "    bottom_part = np.diff(df[n])\n",
    "    bottom_part = np.where(diffs<0, -diffs, 0)\n",
    "    previous-=bottom_part\n",
    "\n",
    "    inds = np.where(bottom_part!=0)[0]\n",
    "    y_plot = bottom_part[inds]\n",
    "    x_plot = np.arange(1,len(df))[inds] \n",
    "    plt.bar(x_plot,y_plot,bottom=previous[inds],color=cols[i], alpha=1)\n",
    "\n",
    "\n",
    "plt.legend(loc=[0.02,.77])\n",
    "plt.xlabel('Round number')\n",
    "plt.ylabel('Winnings')\n",
    "range_ = 1.5\n",
    "\n",
    "plt.ylim((-range_,range_));\n",
    "\n",
    "#plt.savefig(f'winnings_{datetime.now().strftime(\"%d_%m_%y\")}.png',bbox_inches='tight')"
   ]
  },
  {
   "cell_type": "markdown",
   "metadata": {},
   "source": [
    "### Who won at which parts?"
   ]
  },
  {
   "cell_type": "code",
   "execution_count": 25,
   "metadata": {},
   "outputs": [],
   "source": [
    "entries = dfraw['entry'][::-1]\n",
    "\n",
    "all_hands = []\n",
    "hand = []\n",
    "active = 0\n",
    "for i,e in enumerate(entries):\n",
    "    if active and '--' not in e:\n",
    "        hand.append(e)\n",
    "    if '-- starting hand' in e:\n",
    "        starter = i\n",
    "        active = 1\n",
    "    if '-- ending hand' in e:\n",
    "        active = 0\n",
    "        all_hands.append(hand)\n",
    "        hand = []"
   ]
  },
  {
   "cell_type": "code",
   "execution_count": 26,
   "metadata": {},
   "outputs": [],
   "source": [
    "def get_winner(hand,names):\n",
    "    for row in hand:\n",
    "        if 'collected' in row:\n",
    "            for n in names:\n",
    "                if n in row:\n",
    "                    return n\n",
    "\n",
    "def get_section(hand):\n",
    "    for sec in ['River','Turn','Flop']:\n",
    "        if sec in ' '.join(hand):\n",
    "            return sec\n",
    "    return 'Preflop'"
   ]
  },
  {
   "cell_type": "code",
   "execution_count": 27,
   "metadata": {},
   "outputs": [],
   "source": [
    "win_on = pd.DataFrame({\n",
    "    'Name':names,\n",
    "    'Preflop':[0]*len(names),\n",
    "    'Flop':[0]*len(names),\n",
    "    'Turn':[0]*len(names),\n",
    "    'River':[0]*len(names),\n",
    "})\n",
    "\n",
    "win_on = win_on.set_index('Name')\n",
    "\n",
    "for h in all_hands:\n",
    "    winner  = get_winner(h,names)\n",
    "    section = get_section(h)\n",
    "    win_on.loc[winner,section] += 1\n",
    "\n",
    "win_on = win_on.reset_index(drop=False)"
   ]
  },
  {
   "cell_type": "code",
   "execution_count": 28,
   "metadata": {},
   "outputs": [],
   "source": [
    "def bar_plotter(df, save=True, perc=False):\n",
    "    plt.figure(figsize=(10,5))\n",
    "    sns.set(font_scale=2)\n",
    "    \n",
    "    rounds = [c for c in df.columns if c!='Name']\n",
    "    names = list(df['Name'].values)\n",
    "    \n",
    "    main_ticks = np.arange(len(rounds))\n",
    "    jump = 1/(len(names)+1)\n",
    "    \n",
    "    for i, n in enumerate(names):\n",
    "        xpos = main_ticks + jump*i\n",
    "        \n",
    "        data_to_plot = [df.loc[df['Name']==n, r].values[0] for r in rounds]\n",
    "        \n",
    "        plt.bar(\n",
    "            xpos,\n",
    "            data_to_plot,\n",
    "            width=jump*0.9,\n",
    "            label=n.title(),\n",
    "            color=cols[i]\n",
    "        )\n",
    "        \n",
    "    if perc:\n",
    "        plt.ylabel('Percentage rounds won for player')\n",
    "    else:\n",
    "        plt.ylabel('Rounds won')\n",
    "    plt.gca().set_xticks(main_ticks + jump*(i/2))\n",
    "    plt.gca().set_xticklabels(rounds)\n",
    "    legend = plt.legend(title='Player', loc=[0.98,0.6])\n",
    "    plt.setp(legend.get_title(),fontsize=15)\n",
    "    plt.grid(axis='x')\n",
    "    if save:\n",
    "        if perc:\n",
    "            plt.savefig(f'percrounds_{datetime.now().strftime(\"%d_%m_%y\")}.png',bbox_inches='tight')\n",
    "        else:\n",
    "            plt.savefig(f'rounds_{datetime.now().strftime(\"%d_%m_%y\")}.png',bbox_inches='tight')\n",
    "    plt.show()"
   ]
  },
  {
   "cell_type": "code",
   "execution_count": 29,
   "metadata": {},
   "outputs": [],
   "source": [
    "win_on_perc = win_on.copy()[['Preflop','Flop','Turn','River']]\n",
    "totals = win_on_perc.sum(axis=1)\n",
    "for i in range(len(win_on_perc)):\n",
    "    win_on_perc.loc[i,:] = 100*win_on_perc.loc[i,:]/totals[i]\n",
    "win_on_perc['Name'] = names"
   ]
  },
  {
   "cell_type": "code",
   "execution_count": 30,
   "metadata": {},
   "outputs": [
    {
     "data": {
      "image/png": "[encoded data removed]",
      "text/plain": [
       "<Figure size 720x360 with 1 Axes>"
      ]
     },
     "metadata": {},
     "output_type": "display_data"
    }
   ],
   "source": [
    "bar_plotter(win_on, save=True)"
   ]
  },
  {
   "cell_type": "code",
   "execution_count": 31,
   "metadata": {},
   "outputs": [
    {
     "data": {
      "image/png": "[encoded data removed]",
      "text/plain": [
       "<Figure size 720x360 with 1 Axes>"
      ]
     },
     "metadata": {},
     "output_type": "display_data"
    }
   ],
   "source": [
    "bar_plotter(win_on_perc, save=True, perc=True)"
   ]
  },
  {
   "cell_type": "code",
   "execution_count": 20,
   "metadata": {},
   "outputs": [],
   "source": [
    "megfold = 0\n",
    "scottfold = 0"
   ]
  },
  {
   "cell_type": "code",
   "execution_count": 21,
   "metadata": {},
   "outputs": [],
   "source": [
    "dfraw = dfraw.reset_index(drop=1)"
   ]
  },
  {
   "cell_type": "code",
   "execution_count": 22,
   "metadata": {},
   "outputs": [],
   "source": [
    "for i in range(len(dfraw)):\n",
    "    entry = dfraw.loc[i,'entry']\n",
    "    if 'Meg' in entry and 'fold' in entry:\n",
    "        megfold +=1\n",
    "    if 'Scott' in entry and 'fold' in entry:\n",
    "        scottfold +=1"
   ]
  },
  {
   "cell_type": "code",
   "execution_count": 65,
   "metadata": {},
   "outputs": [
    {
     "data": {
      "text/html": [
       "<div>\n",
       "<style scoped>\n",
       "    .dataframe tbody tr th:only-of-type {\n",
       "        vertical-align: middle;\n",
       "    }\n",
       "\n",
       "    .dataframe tbody tr th {\n",
       "        vertical-align: top;\n",
       "    }\n",
       "\n",
       "    .dataframe thead th {\n",
       "        text-align: right;\n",
       "    }\n",
       "</style>\n",
       "<table border=\"1\" class=\"dataframe\">\n",
       "  <thead>\n",
       "    <tr style=\"text-align: right;\">\n",
       "      <th></th>\n",
       "      <th>Meg</th>\n",
       "      <th>Scott</th>\n",
       "      <th>at</th>\n",
       "    </tr>\n",
       "  </thead>\n",
       "  <tbody>\n",
       "    <tr>\n",
       "      <th>0</th>\n",
       "      <td>10.0</td>\n",
       "      <td>10.0</td>\n",
       "      <td>2021-02-06T10:04:06.617Z</td>\n",
       "    </tr>\n",
       "    <tr>\n",
       "      <th>36</th>\n",
       "      <td>10.0</td>\n",
       "      <td>10.0</td>\n",
       "      <td>2021-02-06T11:04:26.669Z</td>\n",
       "    </tr>\n",
       "    <tr>\n",
       "      <th>45</th>\n",
       "      <td>10.0</td>\n",
       "      <td>10.0</td>\n",
       "      <td>2021-02-06T11:15:34.354Z</td>\n",
       "    </tr>\n",
       "    <tr>\n",
       "      <th>67</th>\n",
       "      <td>10.0</td>\n",
       "      <td>10.0</td>\n",
       "      <td>2021-02-06T11:36:48.058Z</td>\n",
       "    </tr>\n",
       "    <tr>\n",
       "      <th>73</th>\n",
       "      <td>10.0</td>\n",
       "      <td>10.0</td>\n",
       "      <td>2021-02-06T11:42:09.910Z</td>\n",
       "    </tr>\n",
       "  </tbody>\n",
       "</table>\n",
       "</div>"
      ],
      "text/plain": [
       "     Meg  Scott                        at\n",
       "0   10.0   10.0  2021-02-06T10:04:06.617Z\n",
       "36  10.0   10.0  2021-02-06T11:04:26.669Z\n",
       "45  10.0   10.0  2021-02-06T11:15:34.354Z\n",
       "67  10.0   10.0  2021-02-06T11:36:48.058Z\n",
       "73  10.0   10.0  2021-02-06T11:42:09.910Z"
      ]
     },
     "execution_count": 65,
     "metadata": {},
     "output_type": "execute_result"
    }
   ],
   "source": [
    "df[(df.Meg==10)&(df.Scott==10)]"
   ]
  },
  {
   "cell_type": "code",
   "execution_count": 72,
   "metadata": {},
   "outputs": [],
   "source": [
    "df0 = df[0:36]\n",
    "df1 = df[36:45]\n",
    "df2 = df[45:67]\n",
    "df3 = df[67:73]\n",
    "df4 = df[73:]"
   ]
  },
  {
   "cell_type": "code",
   "execution_count": 69,
   "metadata": {},
   "outputs": [
    {
     "data": {
      "text/html": [
       "<div>\n",
       "<style scoped>\n",
       "    .dataframe tbody tr th:only-of-type {\n",
       "        vertical-align: middle;\n",
       "    }\n",
       "\n",
       "    .dataframe tbody tr th {\n",
       "        vertical-align: top;\n",
       "    }\n",
       "\n",
       "    .dataframe thead th {\n",
       "        text-align: right;\n",
       "    }\n",
       "</style>\n",
       "<table border=\"1\" class=\"dataframe\">\n",
       "  <thead>\n",
       "    <tr style=\"text-align: right;\">\n",
       "      <th></th>\n",
       "      <th>Meg</th>\n",
       "      <th>Scott</th>\n",
       "      <th>at</th>\n",
       "    </tr>\n",
       "  </thead>\n",
       "  <tbody>\n",
       "    <tr>\n",
       "      <th>67</th>\n",
       "      <td>10.0</td>\n",
       "      <td>10.0</td>\n",
       "      <td>2021-02-06T11:36:48.058Z</td>\n",
       "    </tr>\n",
       "    <tr>\n",
       "      <th>68</th>\n",
       "      <td>10.4</td>\n",
       "      <td>9.6</td>\n",
       "      <td>2021-02-06T11:37:55.260Z</td>\n",
       "    </tr>\n",
       "    <tr>\n",
       "      <th>69</th>\n",
       "      <td>10.6</td>\n",
       "      <td>9.4</td>\n",
       "      <td>2021-02-06T11:38:36.042Z</td>\n",
       "    </tr>\n",
       "    <tr>\n",
       "      <th>70</th>\n",
       "      <td>10.4</td>\n",
       "      <td>9.6</td>\n",
       "      <td>2021-02-06T11:39:13.446Z</td>\n",
       "    </tr>\n",
       "    <tr>\n",
       "      <th>71</th>\n",
       "      <td>10.8</td>\n",
       "      <td>9.2</td>\n",
       "      <td>2021-02-06T11:39:59.004Z</td>\n",
       "    </tr>\n",
       "    <tr>\n",
       "      <th>72</th>\n",
       "      <td>11.8</td>\n",
       "      <td>8.2</td>\n",
       "      <td>2021-02-06T11:40:47.831Z</td>\n",
       "    </tr>\n",
       "  </tbody>\n",
       "</table>\n",
       "</div>"
      ],
      "text/plain": [
       "     Meg  Scott                        at\n",
       "67  10.0   10.0  2021-02-06T11:36:48.058Z\n",
       "68  10.4    9.6  2021-02-06T11:37:55.260Z\n",
       "69  10.6    9.4  2021-02-06T11:38:36.042Z\n",
       "70  10.4    9.6  2021-02-06T11:39:13.446Z\n",
       "71  10.8    9.2  2021-02-06T11:39:59.004Z\n",
       "72  11.8    8.2  2021-02-06T11:40:47.831Z"
      ]
     },
     "execution_count": 69,
     "metadata": {},
     "output_type": "execute_result"
    }
   ],
   "source": [
    "df0 = df0.append(pd.DataFrame({'Meg':0,'Scott':20,'at':''}))"
   ]
  },
  {
   "cell_type": "code",
   "execution_count": 74,
   "metadata": {},
   "outputs": [
    {
     "data": {
      "text/html": [
       "<div>\n",
       "<style scoped>\n",
       "    .dataframe tbody tr th:only-of-type {\n",
       "        vertical-align: middle;\n",
       "    }\n",
       "\n",
       "    .dataframe tbody tr th {\n",
       "        vertical-align: top;\n",
       "    }\n",
       "\n",
       "    .dataframe thead th {\n",
       "        text-align: right;\n",
       "    }\n",
       "</style>\n",
       "<table border=\"1\" class=\"dataframe\">\n",
       "  <thead>\n",
       "    <tr style=\"text-align: right;\">\n",
       "      <th></th>\n",
       "      <th>Meg</th>\n",
       "      <th>Scott</th>\n",
       "      <th>at</th>\n",
       "    </tr>\n",
       "  </thead>\n",
       "  <tbody>\n",
       "    <tr>\n",
       "      <th>36</th>\n",
       "      <td>10.0</td>\n",
       "      <td>10.0</td>\n",
       "      <td>2021-02-06T11:04:26.669Z</td>\n",
       "    </tr>\n",
       "    <tr>\n",
       "      <th>37</th>\n",
       "      <td>10.6</td>\n",
       "      <td>9.4</td>\n",
       "      <td>2021-02-06T11:05:48.119Z</td>\n",
       "    </tr>\n",
       "    <tr>\n",
       "      <th>38</th>\n",
       "      <td>10.8</td>\n",
       "      <td>9.2</td>\n",
       "      <td>2021-02-06T11:06:40.658Z</td>\n",
       "    </tr>\n",
       "    <tr>\n",
       "      <th>39</th>\n",
       "      <td>10.2</td>\n",
       "      <td>9.8</td>\n",
       "      <td>2021-02-06T11:08:00.422Z</td>\n",
       "    </tr>\n",
       "    <tr>\n",
       "      <th>40</th>\n",
       "      <td>10.4</td>\n",
       "      <td>9.6</td>\n",
       "      <td>2021-02-06T11:09:14.600Z</td>\n",
       "    </tr>\n",
       "    <tr>\n",
       "      <th>41</th>\n",
       "      <td>10.8</td>\n",
       "      <td>9.2</td>\n",
       "      <td>2021-02-06T11:10:03.397Z</td>\n",
       "    </tr>\n",
       "    <tr>\n",
       "      <th>42</th>\n",
       "      <td>11.6</td>\n",
       "      <td>8.4</td>\n",
       "      <td>2021-02-06T11:11:57.066Z</td>\n",
       "    </tr>\n",
       "    <tr>\n",
       "      <th>43</th>\n",
       "      <td>11.8</td>\n",
       "      <td>8.2</td>\n",
       "      <td>2021-02-06T11:12:36.551Z</td>\n",
       "    </tr>\n",
       "    <tr>\n",
       "      <th>44</th>\n",
       "      <td>11.4</td>\n",
       "      <td>8.6</td>\n",
       "      <td>2021-02-06T11:13:21.194Z</td>\n",
       "    </tr>\n",
       "  </tbody>\n",
       "</table>\n",
       "</div>"
      ],
      "text/plain": [
       "     Meg  Scott                        at\n",
       "36  10.0   10.0  2021-02-06T11:04:26.669Z\n",
       "37  10.6    9.4  2021-02-06T11:05:48.119Z\n",
       "38  10.8    9.2  2021-02-06T11:06:40.658Z\n",
       "39  10.2    9.8  2021-02-06T11:08:00.422Z\n",
       "40  10.4    9.6  2021-02-06T11:09:14.600Z\n",
       "41  10.8    9.2  2021-02-06T11:10:03.397Z\n",
       "42  11.6    8.4  2021-02-06T11:11:57.066Z\n",
       "43  11.8    8.2  2021-02-06T11:12:36.551Z\n",
       "44  11.4    8.6  2021-02-06T11:13:21.194Z"
      ]
     },
     "execution_count": 74,
     "metadata": {},
     "output_type": "execute_result"
    }
   ],
   "source": [
    "df1"
   ]
  },
  {
   "cell_type": "markdown",
   "metadata": {},
   "source": [
    "# Robust method"
   ]
  },
  {
   "cell_type": "code",
   "execution_count": 36,
   "metadata": {},
   "outputs": [],
   "source": [
    "def df_gn(dfraw, x):\n",
    "    dfraw_inv = dfraw[::-1]\n",
    "    i=0\n",
    "    while True:\n",
    "        dfnext = dfraw_inv[i:i+x]\n",
    "        i+=x\n",
    "        yield dfnext"
   ]
  },
  {
   "cell_type": "code",
   "execution_count": 95,
   "metadata": {},
   "outputs": [],
   "source": [
    "import re\n",
    "\n",
    "match = "
   ]
  },
  {
   "cell_type": "code",
   "execution_count": 96,
   "metadata": {},
   "outputs": [
    {
     "data": {
      "text/plain": [
       "['0.70', '4.32']"
      ]
     },
     "execution_count": 96,
     "metadata": {},
     "output_type": "execute_result"
    }
   ],
   "source": [
    "match"
   ]
  },
  {
   "cell_type": "code",
   "execution_count": 39,
   "metadata": {},
   "outputs": [],
   "source": [
    "import re\n",
    "\n",
    "def get_robust_totals(dfraw, names):\n",
    "    dfi = dfraw[::-1].reset_index(drop=True)\n",
    "    starts = dfi[dfi.entry.str.contains('-- starting hand')]\n",
    "    ends   = dfi[dfi.entry.str.contains('-- ending hand')]\n",
    "    starts = starts[:len(ends)]\n",
    "    hands = []\n",
    "\n",
    "    for i in range(len(starts)):\n",
    "        hands.append(dfi.loc[starts.index[i]:ends.index[i]])\n",
    "        \n",
    "    \n",
    "\n",
    "def get_hand_differential(hand, names):\n",
    "    hand_diff = {n:0 for n in names}\n",
    "    \n",
    "    hand_text_all = ' '.join(hand.entry.values)\n",
    "    indices = [hand[hand.entry.str.contains(x)].index[0] for x in ['Your hand','Flop','Turn','River'] if x in hand_text_all]\n",
    "    indices.append(hand.index[-1])\n",
    "    rounds = [hand.loc[indices[i]:indices[i+1]-1] for i in range(len(indices)-1)]\n",
    "    \n",
    "    for rnd in rounds:\n",
    "        round_diff = get_round_differential(rnd, names)\n",
    "        for n in names:\n",
    "            hand_diff[n] += round_diff[n]\n",
    "\n",
    "    return hand_diff\n",
    "        \n",
    "def get_number(string):\n",
    "    num = re.findall(r'\\d+\\.\\d*', row)\n",
    "    assert len(num)==1\n",
    "    return num[0]\n",
    "        \n",
    "def get_round_differential(rnd, names)\n",
    "    betting_signatures = ['calls','checks','bets','posts']\n",
    "    taking_signatures = ['returned', 'collected']\n",
    "    \n",
    "    diff = {n:0 for n in names}\n",
    "    \n",
    "    for i,row in rnd.iterrows():\n",
    "        text = row['entry']\n",
    "        \n",
    "        if 'bets' in text or 'posts' in text:\n",
    "            diff[which_player(text,names)] -= get_number(text)\n",
    "            \n",
    "        elif 'calls' in text:\n",
    "            diff[which_player(text,names)] = 0-get_number(text)\n",
    "            \n",
    "        elif 'returned' in text or 'collected' in text:\n",
    "            diff[which_player(text,names)] += get_number(text)\n",
    "        \n",
    "    return diff           \n",
    "\n",
    "def which_player(entry, names):\n",
    "    for n in names:\n",
    "        if n in entry:\n",
    "            return n\n",
    "    return None\n",
    "\n",
    "def apply_rebuys(df, names):\n",
    "    pass"
   ]
  },
  {
   "cell_type": "code",
   "execution_count": 35,
   "metadata": {},
   "outputs": [],
   "source": [
    "dfi = dfraw[::-1].reset_index(drop=True)\n",
    "starts = dfi[dfi.entry.str.contains('-- starting hand')]\n",
    "ends   = dfi[dfi.entry.str.contains('-- ending hand')]\n",
    "starts = starts[:len(ends)]\n",
    "hands = []\n",
    "\n",
    "for i in range(len(starts)):\n",
    "    hands.append(dfi.loc[starts.index[i]:ends.index[i]])"
   ]
  },
  {
   "cell_type": "code",
   "execution_count": 36,
   "metadata": {},
   "outputs": [],
   "source": [
    "hand = hands[2]"
   ]
  },
  {
   "cell_type": "code",
   "execution_count": 37,
   "metadata": {},
   "outputs": [
    {
     "data": {
      "text/html": [
       "<div>\n",
       "<style scoped>\n",
       "    .dataframe tbody tr th:only-of-type {\n",
       "        vertical-align: middle;\n",
       "    }\n",
       "\n",
       "    .dataframe tbody tr th {\n",
       "        vertical-align: top;\n",
       "    }\n",
       "\n",
       "    .dataframe thead th {\n",
       "        text-align: right;\n",
       "    }\n",
       "</style>\n",
       "<table border=\"1\" class=\"dataframe\">\n",
       "  <thead>\n",
       "    <tr style=\"text-align: right;\">\n",
       "      <th></th>\n",
       "      <th>entry</th>\n",
       "      <th>at</th>\n",
       "      <th>order</th>\n",
       "    </tr>\n",
       "  </thead>\n",
       "  <tbody>\n",
       "    <tr>\n",
       "      <th>56</th>\n",
       "      <td>-- starting hand #3  (No Limit Texas Hold'em) ...</td>\n",
       "      <td>2020-12-03T20:17:50.223Z</td>\n",
       "      <td>160702667022400</td>\n",
       "    </tr>\n",
       "    <tr>\n",
       "      <th>57</th>\n",
       "      <td>Player stacks: #1 \"Michael @ Fer4N75h9y\" (3.70...</td>\n",
       "      <td>2020-12-03T20:17:50.223Z</td>\n",
       "      <td>160702667022401</td>\n",
       "    </tr>\n",
       "    <tr>\n",
       "      <th>58</th>\n",
       "      <td>Your hand is J♥, 10♥</td>\n",
       "      <td>2020-12-03T20:17:50.223Z</td>\n",
       "      <td>160702667022404</td>\n",
       "    </tr>\n",
       "    <tr>\n",
       "      <th>59</th>\n",
       "      <td>\"Dr Scott @ Ce3DFmEur5\" posts a small blind of...</td>\n",
       "      <td>2020-12-03T20:17:50.223Z</td>\n",
       "      <td>160702667022405</td>\n",
       "    </tr>\n",
       "    <tr>\n",
       "      <th>60</th>\n",
       "      <td>\"Michael @ Fer4N75h9y\" posts a big blind of 0.10</td>\n",
       "      <td>2020-12-03T20:17:50.223Z</td>\n",
       "      <td>160702667022406</td>\n",
       "    </tr>\n",
       "    <tr>\n",
       "      <th>61</th>\n",
       "      <td>\"Dr. Hurst @ b7rmnGbpoR\" folds</td>\n",
       "      <td>2020-12-03T20:17:53.330Z</td>\n",
       "      <td>160702667333100</td>\n",
       "    </tr>\n",
       "    <tr>\n",
       "      <th>62</th>\n",
       "      <td>\"Dr Scott @ Ce3DFmEur5\" calls 0.10</td>\n",
       "      <td>2020-12-03T20:17:55.508Z</td>\n",
       "      <td>160702667550900</td>\n",
       "    </tr>\n",
       "    <tr>\n",
       "      <th>63</th>\n",
       "      <td>\"Michael @ Fer4N75h9y\" checks</td>\n",
       "      <td>2020-12-03T20:17:57.390Z</td>\n",
       "      <td>160702667739000</td>\n",
       "    </tr>\n",
       "    <tr>\n",
       "      <th>64</th>\n",
       "      <td>flop:  [K♥, A♣, Q♣]</td>\n",
       "      <td>2020-12-03T20:17:58.198Z</td>\n",
       "      <td>160702667820000</td>\n",
       "    </tr>\n",
       "    <tr>\n",
       "      <th>65</th>\n",
       "      <td>\"Dr Scott @ Ce3DFmEur5\" bets 0.10</td>\n",
       "      <td>2020-12-03T20:18:02.280Z</td>\n",
       "      <td>160702668228300</td>\n",
       "    </tr>\n",
       "    <tr>\n",
       "      <th>66</th>\n",
       "      <td>\"Michael @ Fer4N75h9y\" folds</td>\n",
       "      <td>2020-12-03T20:18:09.664Z</td>\n",
       "      <td>160702668966400</td>\n",
       "    </tr>\n",
       "    <tr>\n",
       "      <th>67</th>\n",
       "      <td>Uncalled bet of 0.10 returned to \"Dr Scott @ C...</td>\n",
       "      <td>2020-12-03T20:18:10.472Z</td>\n",
       "      <td>160702669047200</td>\n",
       "    </tr>\n",
       "    <tr>\n",
       "      <th>68</th>\n",
       "      <td>\"Dr Scott @ Ce3DFmEur5\" collected 0.20 from pot</td>\n",
       "      <td>2020-12-03T20:18:10.472Z</td>\n",
       "      <td>160702669047201</td>\n",
       "    </tr>\n",
       "    <tr>\n",
       "      <th>69</th>\n",
       "      <td>-- ending hand #3 --</td>\n",
       "      <td>2020-12-03T20:18:10.472Z</td>\n",
       "      <td>160702669047202</td>\n",
       "    </tr>\n",
       "  </tbody>\n",
       "</table>\n",
       "</div>"
      ],
      "text/plain": [
       "                                                entry  \\\n",
       "56  -- starting hand #3  (No Limit Texas Hold'em) ...   \n",
       "57  Player stacks: #1 \"Michael @ Fer4N75h9y\" (3.70...   \n",
       "58                               Your hand is J♥, 10♥   \n",
       "59  \"Dr Scott @ Ce3DFmEur5\" posts a small blind of...   \n",
       "60   \"Michael @ Fer4N75h9y\" posts a big blind of 0.10   \n",
       "61                     \"Dr. Hurst @ b7rmnGbpoR\" folds   \n",
       "62                 \"Dr Scott @ Ce3DFmEur5\" calls 0.10   \n",
       "63                      \"Michael @ Fer4N75h9y\" checks   \n",
       "64                                flop:  [K♥, A♣, Q♣]   \n",
       "65                  \"Dr Scott @ Ce3DFmEur5\" bets 0.10   \n",
       "66                       \"Michael @ Fer4N75h9y\" folds   \n",
       "67  Uncalled bet of 0.10 returned to \"Dr Scott @ C...   \n",
       "68    \"Dr Scott @ Ce3DFmEur5\" collected 0.20 from pot   \n",
       "69                               -- ending hand #3 --   \n",
       "\n",
       "                          at            order  \n",
       "56  2020-12-03T20:17:50.223Z  160702667022400  \n",
       "57  2020-12-03T20:17:50.223Z  160702667022401  \n",
       "58  2020-12-03T20:17:50.223Z  160702667022404  \n",
       "59  2020-12-03T20:17:50.223Z  160702667022405  \n",
       "60  2020-12-03T20:17:50.223Z  160702667022406  \n",
       "61  2020-12-03T20:17:53.330Z  160702667333100  \n",
       "62  2020-12-03T20:17:55.508Z  160702667550900  \n",
       "63  2020-12-03T20:17:57.390Z  160702667739000  \n",
       "64  2020-12-03T20:17:58.198Z  160702667820000  \n",
       "65  2020-12-03T20:18:02.280Z  160702668228300  \n",
       "66  2020-12-03T20:18:09.664Z  160702668966400  \n",
       "67  2020-12-03T20:18:10.472Z  160702669047200  \n",
       "68  2020-12-03T20:18:10.472Z  160702669047201  \n",
       "69  2020-12-03T20:18:10.472Z  160702669047202  "
      ]
     },
     "execution_count": 37,
     "metadata": {},
     "output_type": "execute_result"
    }
   ],
   "source": [
    "hand"
   ]
  },
  {
   "cell_type": "code",
   "execution_count": 169,
   "metadata": {},
   "outputs": [],
   "source": [
    "\n",
    "    "
   ]
  },
  {
   "cell_type": "code",
   "execution_count": 56,
   "metadata": {},
   "outputs": [],
   "source": []
  },
  {
   "cell_type": "code",
   "execution_count": 59,
   "metadata": {},
   "outputs": [
    {
     "data": {
      "text/html": [
       "<div>\n",
       "<style scoped>\n",
       "    .dataframe tbody tr th:only-of-type {\n",
       "        vertical-align: middle;\n",
       "    }\n",
       "\n",
       "    .dataframe tbody tr th {\n",
       "        vertical-align: top;\n",
       "    }\n",
       "\n",
       "    .dataframe thead th {\n",
       "        text-align: right;\n",
       "    }\n",
       "</style>\n",
       "<table border=\"1\" class=\"dataframe\">\n",
       "  <thead>\n",
       "    <tr style=\"text-align: right;\">\n",
       "      <th></th>\n",
       "      <th>entry</th>\n",
       "      <th>at</th>\n",
       "      <th>order</th>\n",
       "    </tr>\n",
       "  </thead>\n",
       "  <tbody>\n",
       "    <tr>\n",
       "      <th>64</th>\n",
       "      <td>Your hand is 5♦, 2♦</td>\n",
       "      <td>2021-02-11T20:15:43.333Z</td>\n",
       "      <td>161307454333503</td>\n",
       "    </tr>\n",
       "    <tr>\n",
       "      <th>65</th>\n",
       "      <td>\"Dr Hurst @ b7rmnGbpoR\" posts a small blind of...</td>\n",
       "      <td>2021-02-11T20:15:43.333Z</td>\n",
       "      <td>161307454333505</td>\n",
       "    </tr>\n",
       "    <tr>\n",
       "      <th>66</th>\n",
       "      <td>\"Kristo @ byVXgubSAR\" posts a big blind of 0.10</td>\n",
       "      <td>2021-02-11T20:15:43.333Z</td>\n",
       "      <td>161307454333506</td>\n",
       "    </tr>\n",
       "    <tr>\n",
       "      <th>67</th>\n",
       "      <td>\"Scott @ Ce3DFmEur5\" calls 0.10</td>\n",
       "      <td>2021-02-11T20:15:52.653Z</td>\n",
       "      <td>161307455265400</td>\n",
       "    </tr>\n",
       "    <tr>\n",
       "      <th>68</th>\n",
       "      <td>\"Dr Hurst @ b7rmnGbpoR\" calls 0.10</td>\n",
       "      <td>2021-02-11T20:15:56.121Z</td>\n",
       "      <td>161307455612200</td>\n",
       "    </tr>\n",
       "    <tr>\n",
       "      <th>69</th>\n",
       "      <td>\"Kristo @ byVXgubSAR\" checks</td>\n",
       "      <td>2021-02-11T20:16:00.275Z</td>\n",
       "      <td>161307456027600</td>\n",
       "    </tr>\n",
       "  </tbody>\n",
       "</table>\n",
       "</div>"
      ],
      "text/plain": [
       "                                                entry  \\\n",
       "64                                Your hand is 5♦, 2♦   \n",
       "65  \"Dr Hurst @ b7rmnGbpoR\" posts a small blind of...   \n",
       "66    \"Kristo @ byVXgubSAR\" posts a big blind of 0.10   \n",
       "67                    \"Scott @ Ce3DFmEur5\" calls 0.10   \n",
       "68                 \"Dr Hurst @ b7rmnGbpoR\" calls 0.10   \n",
       "69                       \"Kristo @ byVXgubSAR\" checks   \n",
       "\n",
       "                          at            order  \n",
       "64  2021-02-11T20:15:43.333Z  161307454333503  \n",
       "65  2021-02-11T20:15:43.333Z  161307454333505  \n",
       "66  2021-02-11T20:15:43.333Z  161307454333506  \n",
       "67  2021-02-11T20:15:52.653Z  161307455265400  \n",
       "68  2021-02-11T20:15:56.121Z  161307455612200  \n",
       "69  2021-02-11T20:16:00.275Z  161307456027600  "
      ]
     },
     "execution_count": 59,
     "metadata": {},
     "output_type": "execute_result"
    }
   ],
   "source": [
    "rounds[0]"
   ]
  },
  {
   "cell_type": "code",
   "execution_count": 45,
   "metadata": {},
   "outputs": [
    {
     "data": {
      "text/plain": [
       "56    False\n",
       "57    False\n",
       "58    False\n",
       "59    False\n",
       "60    False\n",
       "61    False\n",
       "62    False\n",
       "63    False\n",
       "64    False\n",
       "65    False\n",
       "66    False\n",
       "67    False\n",
       "68    False\n",
       "69    False\n",
       "Name: entry, dtype: bool"
      ]
     },
     "execution_count": 45,
     "metadata": {},
     "output_type": "execute_result"
    }
   ],
   "source": [
    "hand.entry.str.lower().str.startswith('.')"
   ]
  },
  {
   "cell_type": "code",
   "execution_count": null,
   "metadata": {},
   "outputs": [],
   "source": []
  }
 ],
 "metadata": {
  "kernelspec": {
   "display_name": "Python 3",
   "language": "python",
   "name": "python3"
  },
  "language_info": {
   "codemirror_mode": {
    "name": "ipython",
    "version": 3
   },
   "file_extension": ".py",
   "mimetype": "text/x-python",
   "name": "python",
   "nbconvert_exporter": "python",
   "pygments_lexer": "ipython3",
   "version": "3.8.5"
  }
 },
 "nbformat": 4,
 "nbformat_minor": 4
}
